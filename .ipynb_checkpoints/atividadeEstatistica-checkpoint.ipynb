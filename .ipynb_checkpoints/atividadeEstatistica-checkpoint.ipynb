{
 "cells": [
  {
   "cell_type": "markdown",
   "id": "25b41732-6ff4-476c-808f-c7df6ad609b8",
   "metadata": {},
   "source": [
    "#### Importando a blibioteca  \n"
   ]
  },
  {
   "cell_type": "code",
   "execution_count": 5,
   "id": "d872d589-e688-4449-a592-c9418c284b35",
   "metadata": {},
   "outputs": [],
   "source": [
    "import pandas as pd \n",
    "import math"
   ]
  },
  {
   "cell_type": "markdown",
   "id": "a9fd6395-8a18-42a2-9f1a-dac46ff687f6",
   "metadata": {},
   "source": [
    "#### Organizando os dados \n"
   ]
  },
  {
   "cell_type": "code",
   "execution_count": 53,
   "id": "beeb7c39-7f04-4c4a-8071-770e6ae1400c",
   "metadata": {},
   "outputs": [
    {
     "name": "stdout",
     "output_type": "stream",
     "text": [
      "i = 20\n"
     ]
    }
   ],
   "source": [
    "quantidade_de_vendas = [127, 154, 98, 203, 175, 82, 116, 189, 145, 172, 210, 93, 84, 74, 52, 98, 120, 85, 61, 87]\n",
    "i = len(quantidade_de_vendas)\n",
    "print(f'i = {i}')"
   ]
  },
  {
   "cell_type": "markdown",
   "id": "05382c7c-5ce1-4434-92d9-6d1891ac3716",
   "metadata": {},
   "source": [
    "#### Ordenando lista (rol)"
   ]
  },
  {
   "cell_type": "code",
   "execution_count": 7,
   "id": "03c83fc1-ceda-4db8-a2c3-c49d33240f6a",
   "metadata": {},
   "outputs": [
    {
     "name": "stdout",
     "output_type": "stream",
     "text": [
      " Tabela rol : [52, 61, 74, 82, 84, 85, 87, 93, 98, 98, 116, 120, 127, 145, 154, 172, 175, 189, 203, 210]\n"
     ]
    }
   ],
   "source": [
    "quantidade_de_vendas.sort()\n",
    "print(f\" Tabela rol : {quantidade_de_vendas}\")"
   ]
  },
  {
   "cell_type": "markdown",
   "id": "95802a55-e552-4f26-beeb-c563033c2284",
   "metadata": {},
   "source": [
    "#### numero de classes Regra de Sturges :\n",
    "$$k = 1 +3.322 *\\log_{\\text{2}}(20)$$\n"
   ]
  },
  {
   "cell_type": "code",
   "execution_count": 44,
   "id": "202c4f69-24b0-45a5-a9c5-ace2ec93b331",
   "metadata": {},
   "outputs": [
    {
     "name": "stdout",
     "output_type": "stream",
     "text": [
      "A quantidade de classe = 5\n"
     ]
    }
   ],
   "source": [
    "k = round(1 + 3.322 * math.log10(len(quantidade_de_vendas)))\n",
    "print(f'A quantidade de classe = {k}')"
   ]
  },
  {
   "cell_type": "markdown",
   "id": "4fb80f3c-98c2-46f2-b37d-53ceaac5643e",
   "metadata": {},
   "source": [
    "#### Amplitude total da distribuiçao : \n",
    "$$  AT = L - l  $$\n",
    "$$l = limiteInferior$$\n",
    "$$L = limiteSuperior$$ "
   ]
  },
  {
   "cell_type": "code",
   "execution_count": 32,
   "id": "ae4d210a-017e-4066-a78c-d7e3cc62e4a8",
   "metadata": {},
   "outputs": [
    {
     "name": "stdout",
     "output_type": "stream",
     "text": [
      "A amplitude total = 158\n"
     ]
    }
   ],
   "source": [
    "aplitude_total_AT = quantidade_de_vendas[19] - quantidade_de_vendas[0]\n",
    "print(f'A amplitude total = {aplitude_total_AT}')\n"
   ]
  },
  {
   "cell_type": "markdown",
   "id": "ab169f95-13e3-46af-a49f-10f9f4beb8d7",
   "metadata": {},
   "source": [
    "#### Intervalo de classes :\n",
    "$$ h=\\frac{AT}{k}$$"
   ]
  },
  {
   "cell_type": "code",
   "execution_count": 45,
   "id": "70511df5-ab23-4d0e-98a2-99db2d15d1c1",
   "metadata": {},
   "outputs": [
    {
     "name": "stdout",
     "output_type": "stream",
     "text": [
      "Intervalo de classe = 32\n"
     ]
    }
   ],
   "source": [
    "h = round(aplitude_total_AT / k)\n",
    "print(f'Intervalo de classe = {h}')"
   ]
  },
  {
   "cell_type": "markdown",
   "id": "d873d1e8-81c7-4cfb-a0b1-96665f8d88a1",
   "metadata": {},
   "source": [
    "### fi\n"
   ]
  },
  {
   "cell_type": "code",
   "execution_count": null,
   "id": "98ebcdbd-7eb4-4e91-b2f4-872564f3a01d",
   "metadata": {},
   "outputs": [],
   "source": [
    "fi = []\n",
    "for indix in range(len(quantidade_de_vendas)):\n",
    "    if quantidade_de_vendas[indix] <= quantidade_de_vendas[indix + k]:\n",
    "        print(\"b\")"
   ]
  },
  {
   "cell_type": "markdown",
   "id": "7354a42b-2622-457b-8a16-7a8226196d57",
   "metadata": {},
   "source": [
    "### xi\n"
   ]
  },
  {
   "cell_type": "code",
   "execution_count": null,
   "id": "7305a0c0-7418-4b3e-b745-c659eeb31a91",
   "metadata": {},
   "outputs": [],
   "source": []
  },
  {
   "cell_type": "markdown",
   "id": "4e0f5c24-fb87-4c3e-a53f-d55145389b76",
   "metadata": {},
   "source": [
    "### fri"
   ]
  },
  {
   "cell_type": "code",
   "execution_count": null,
   "id": "365207cb-bacd-4458-b1f3-ffa23d481b3b",
   "metadata": {},
   "outputs": [],
   "source": []
  },
  {
   "cell_type": "markdown",
   "id": "b6f55059-d496-4b8a-beb9-17ab57ae698c",
   "metadata": {},
   "source": [
    "### Fr"
   ]
  },
  {
   "cell_type": "code",
   "execution_count": null,
   "id": "c40e5705-5b28-43ca-87d1-a331c25f31d7",
   "metadata": {},
   "outputs": [],
   "source": []
  },
  {
   "cell_type": "markdown",
   "id": "e527fb02-fa11-4b4c-8f3f-97b45f67fbbb",
   "metadata": {},
   "source": [
    "### Fri\n"
   ]
  },
  {
   "cell_type": "code",
   "execution_count": null,
   "id": "8e4bfb2a-c7f2-484e-8f6f-98e65e12ef82",
   "metadata": {},
   "outputs": [],
   "source": []
  },
  {
   "cell_type": "markdown",
   "id": "751a7c15-c246-4764-9156-3af728fd707c",
   "metadata": {},
   "source": [
    "fi = frequencia simples <br>\n",
    "xi = ponto medio da clase <br>\n",
    "fri = frequencia simples acumulativa  <br>\n",
    "Fr = frequencia relativa  <br>\n",
    "Fri = frequencia relativa acumulativa  <br>"
   ]
  },
  {
   "cell_type": "code",
   "execution_count": 50,
   "id": "24d25481-abdb-4c0c-a013-e87b4f4e4e7a",
   "metadata": {},
   "outputs": [
    {
     "data": {
      "text/html": [
       "<div>\n",
       "<style scoped>\n",
       "    .dataframe tbody tr th:only-of-type {\n",
       "        vertical-align: middle;\n",
       "    }\n",
       "\n",
       "    .dataframe tbody tr th {\n",
       "        vertical-align: top;\n",
       "    }\n",
       "\n",
       "    .dataframe thead th {\n",
       "        text-align: right;\n",
       "    }\n",
       "</style>\n",
       "<table border=\"1\" class=\"dataframe\">\n",
       "  <thead>\n",
       "    <tr style=\"text-align: right;\">\n",
       "      <th></th>\n",
       "      <th>classe</th>\n",
       "      <th>fi</th>\n",
       "    </tr>\n",
       "  </thead>\n",
       "  <tbody>\n",
       "    <tr>\n",
       "      <th>0</th>\n",
       "      <td>52 |- 84</td>\n",
       "      <td>4</td>\n",
       "    </tr>\n",
       "    <tr>\n",
       "      <th>1</th>\n",
       "      <td>84 |- 116</td>\n",
       "      <td>6</td>\n",
       "    </tr>\n",
       "    <tr>\n",
       "      <th>2</th>\n",
       "      <td>116 |- 148</td>\n",
       "      <td>4</td>\n",
       "    </tr>\n",
       "    <tr>\n",
       "      <th>3</th>\n",
       "      <td>148 |- 180</td>\n",
       "      <td>3</td>\n",
       "    </tr>\n",
       "    <tr>\n",
       "      <th>4</th>\n",
       "      <td>180 |- 212</td>\n",
       "      <td>3</td>\n",
       "    </tr>\n",
       "  </tbody>\n",
       "</table>\n",
       "</div>"
      ],
      "text/plain": [
       "        classe fi\n",
       "0    52 |- 84   4\n",
       "1    84 |- 116  6\n",
       "2   116 |- 148  4\n",
       "3   148 |- 180  3\n",
       "4   180 |- 212  3"
      ]
     },
     "execution_count": 50,
     "metadata": {},
     "output_type": "execute_result"
    }
   ],
   "source": [
    "pd.DataFrame({\n",
    "    'classe' :[\"52 |- 84 \",\"84 |- 116\" ,\" 116 |- 148\",\"148 |- 180\",\"180 |- 212\"],\n",
    "    'fi':[4,6,4,3,3],\n",
    "    \"Fi\":[\"4\",\"10\",\"14\",\"17\",\"20\"],\n",
    "    \"fr\":[],\n",
    "    \"Fr\":[],\n",
    "    \"xi\":[]\n",
    "})\n"
   ]
  }
 ],
 "metadata": {
  "kernelspec": {
   "display_name": "Python 3 (ipykernel)",
   "language": "python",
   "name": "python3"
  },
  "language_info": {
   "codemirror_mode": {
    "name": "ipython",
    "version": 3
   },
   "file_extension": ".py",
   "mimetype": "text/x-python",
   "name": "python",
   "nbconvert_exporter": "python",
   "pygments_lexer": "ipython3",
   "version": "3.10.12"
  }
 },
 "nbformat": 4,
 "nbformat_minor": 5
}
