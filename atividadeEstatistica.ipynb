{
 "cells": [
  {
   "cell_type": "markdown",
   "id": "25b41732-6ff4-476c-808f-c7df6ad609b8",
   "metadata": {},
   "source": [
    "#### Importando a blibioteca  \n"
   ]
  },
  {
   "cell_type": "code",
   "execution_count": 1,
   "id": "d872d589-e688-4449-a592-c9418c284b35",
   "metadata": {},
   "outputs": [],
   "source": [
    "import pandas as pd \n",
    "import math"
   ]
  },
  {
   "cell_type": "markdown",
   "id": "a9fd6395-8a18-42a2-9f1a-dac46ff687f6",
   "metadata": {},
   "source": [
    "#### Organizando os dados \n"
   ]
  },
  {
   "cell_type": "code",
   "execution_count": 2,
   "id": "beeb7c39-7f04-4c4a-8071-770e6ae1400c",
   "metadata": {},
   "outputs": [
    {
     "name": "stdout",
     "output_type": "stream",
     "text": [
      "i = 20\n"
     ]
    }
   ],
   "source": [
    "quantidade_de_vendas = [127, 154, 98, 203, 175, 82, 116, 189, 145, 172, 210, 93, 84, 74, 52, 98, 120, 85, 61, 87]\n",
    "i = len(quantidade_de_vendas)\n",
    "print(f'i = {i}')"
   ]
  },
  {
   "cell_type": "markdown",
   "id": "05382c7c-5ce1-4434-92d9-6d1891ac3716",
   "metadata": {},
   "source": [
    "#### Ordenando lista (rol)"
   ]
  },
  {
   "cell_type": "code",
   "execution_count": 3,
   "id": "03c83fc1-ceda-4db8-a2c3-c49d33240f6a",
   "metadata": {},
   "outputs": [
    {
     "name": "stdout",
     "output_type": "stream",
     "text": [
      " Tabela rol : [52, 61, 74, 82, 84, 85, 87, 93, 98, 98, 116, 120, 127, 145, 154, 172, 175, 189, 203, 210]\n"
     ]
    }
   ],
   "source": [
    "quantidade_de_vendas.sort()\n",
    "print(f\" Tabela rol : {quantidade_de_vendas}\")"
   ]
  },
  {
   "cell_type": "markdown",
   "id": "95802a55-e552-4f26-beeb-c563033c2284",
   "metadata": {},
   "source": [
    "#### numero de classes Regra de Sturges :\n",
    "$$k = 1 +3.322 *\\log_{\\text{2}}(20)$$\n"
   ]
  },
  {
   "cell_type": "code",
   "execution_count": 4,
   "id": "202c4f69-24b0-45a5-a9c5-ace2ec93b331",
   "metadata": {},
   "outputs": [
    {
     "name": "stdout",
     "output_type": "stream",
     "text": [
      "A quantidade de classe = 5\n"
     ]
    }
   ],
   "source": [
    "k = round(1 + 3.322 * math.log10(len(quantidade_de_vendas)))\n",
    "print(f'A quantidade de classe = {k}')"
   ]
  },
  {
   "cell_type": "markdown",
   "id": "4fb80f3c-98c2-46f2-b37d-53ceaac5643e",
   "metadata": {},
   "source": [
    "#### Amplitude total da distribuiçao : \n",
    "$$  AT = L - l  $$\n",
    "$$l = limiteInferior$$\n",
    "$$L = limiteSuperior$$ "
   ]
  },
  {
   "cell_type": "code",
   "execution_count": 5,
   "id": "ae4d210a-017e-4066-a78c-d7e3cc62e4a8",
   "metadata": {},
   "outputs": [
    {
     "name": "stdout",
     "output_type": "stream",
     "text": [
      "A amplitude total = 158\n"
     ]
    }
   ],
   "source": [
    "aplitude_total_AT = quantidade_de_vendas[19] - quantidade_de_vendas[0]\n",
    "print(f'A amplitude total = {aplitude_total_AT}')\n"
   ]
  },
  {
   "cell_type": "markdown",
   "id": "ab169f95-13e3-46af-a49f-10f9f4beb8d7",
   "metadata": {},
   "source": [
    "#### Intervalo de classes :\n",
    "$$ h=\\frac{AT}{k}$$"
   ]
  },
  {
   "cell_type": "code",
   "execution_count": 6,
   "id": "70511df5-ab23-4d0e-98a2-99db2d15d1c1",
   "metadata": {},
   "outputs": [
    {
     "name": "stdout",
     "output_type": "stream",
     "text": [
      "Intervalo de classe = 32\n"
     ]
    }
   ],
   "source": [
    "h = round(aplitude_total_AT / k)\n",
    "print(f'Intervalo de classe = {h}')"
   ]
  },
  {
   "cell_type": "markdown",
   "id": "d873d1e8-81c7-4cfb-a0b1-96665f8d88a1",
   "metadata": {},
   "source": [
    "### fi\n"
   ]
  },
  {
   "cell_type": "code",
   "execution_count": 16,
   "id": "98ebcdbd-7eb4-4e91-b2f4-872564f3a01d",
   "metadata": {},
   "outputs": [
    {
     "name": "stdout",
     "output_type": "stream",
     "text": [
      "[4, 6, 4, 3, 3]\n"
     ]
    }
   ],
   "source": [
    "cont001 = 0\n",
    "cont002 = 0\n",
    "cont003 = 0\n",
    "cont004 = 0\n",
    "cont005 = 0\n",
    "\n",
    "for numero in range(len(quantidade_de_vendas)):\n",
    "    if quantidade_de_vendas[numero] >= 52  and  quantidade_de_vendas[numero] < 84 :\n",
    "        cont001 += 1 \n",
    "    if quantidade_de_vendas[numero] >= 84  and  quantidade_de_vendas[numero] < 116 :\n",
    "        cont002 += 1 \n",
    "    if quantidade_de_vendas[numero] >= 116  and  quantidade_de_vendas[numero] < 148 :\n",
    "        cont003 += 1 \n",
    "    if quantidade_de_vendas[numero] >= 148  and  quantidade_de_vendas[numero] < 180 :\n",
    "        cont004 += 1 \n",
    "    if quantidade_de_vendas[numero] >= 180  and  quantidade_de_vendas[numero] < 212 :\n",
    "        cont005 += 1 \n",
    "\n",
    "frequencias_simples = [cont001,cont002,cont003,cont004,cont005]\n",
    "\n",
    "print(frequencias_simples)"
   ]
  },
  {
   "cell_type": "markdown",
   "id": "7354a42b-2622-457b-8a16-7a8226196d57",
   "metadata": {},
   "source": [
    "### Fi\n"
   ]
  },
  {
   "cell_type": "code",
   "execution_count": 17,
   "id": "7305a0c0-7418-4b3e-b745-c659eeb31a91",
   "metadata": {},
   "outputs": [
    {
     "name": "stdout",
     "output_type": "stream",
     "text": [
      "[4, 10, 14, 17, 20]\n"
     ]
    }
   ],
   "source": [
    "frequencia_acumulada = []\n",
    "for numero in range(5) :\n",
    "    if numero == 0:\n",
    "        variavel = frequencias_simples[0]\n",
    "        frequencia_acumulada.append( variavel)\n",
    "        \n",
    "    else :\n",
    "        variavel = frequencia_acumulada[numero - 1] + frequencias_simples[numero]\n",
    "        frequencia_acumulada.append(variavel)\n",
    "        \n",
    "print(frequencia_acumulada)"
   ]
  },
  {
   "cell_type": "markdown",
   "id": "3b38e21d-5aa7-4c10-9b4d-6d590461aa2c",
   "metadata": {},
   "source": [
    "#### fr\n"
   ]
  },
  {
   "cell_type": "code",
   "execution_count": 18,
   "id": "757ca13b-ba61-4960-8832-914e01eb0993",
   "metadata": {},
   "outputs": [
    {
     "name": "stdout",
     "output_type": "stream",
     "text": [
      "[20.0, 30.0, 20.0, 15.0, 15.0]\n"
     ]
    }
   ],
   "source": [
    "frequencia_relativa = []\n",
    "for numero in range(5) :\n",
    "    var = (frequencias_simples[numero] / i) * 100\n",
    "    frequencia_relativa.append(var)\n",
    "print(frequencia_relativa)"
   ]
  },
  {
   "cell_type": "markdown",
   "id": "6e2e6c12-e1e6-4b24-93ea-55d93d5a55cc",
   "metadata": {},
   "source": [
    "#### Fr"
   ]
  },
  {
   "cell_type": "code",
   "execution_count": 19,
   "id": "3709ea13-7c31-40ce-a50c-0962c18f573a",
   "metadata": {},
   "outputs": [
    {
     "name": "stdout",
     "output_type": "stream",
     "text": [
      "[20.0, 50.0, 70.0, 85.0, 100.0]\n"
     ]
    }
   ],
   "source": [
    "frequencia_relativa_acumulativa = []\n",
    "for numero in range(5) :\n",
    "    if numero == 0:\n",
    "        variavel = frequencia_relativa[0]\n",
    "        frequencia_relativa_acumulativa.append(variavel)\n",
    "        \n",
    "    else :\n",
    "        variavel = frequencia_relativa_acumulativa[numero - 1] + frequencia_relativa[numero]\n",
    "        frequencia_relativa_acumulativa.append(variavel)\n",
    "        \n",
    "print(frequencia_relativa_acumulativa)"
   ]
  },
  {
   "cell_type": "markdown",
   "id": "89eaeead-e633-4285-ba11-cb46e6dd9a65",
   "metadata": {},
   "source": [
    "### Xi\n",
    "$$ Xi=\\frac{li+ Li}{2} $$"
   ]
  },
  {
   "cell_type": "code",
   "execution_count": 20,
   "id": "141e72b1-e9fb-4c86-9acf-63ee80de4284",
   "metadata": {},
   "outputs": [
    {
     "name": "stdout",
     "output_type": "stream",
     "text": [
      "[67, 91, 130, 164, 200]\n"
     ]
    }
   ],
   "source": [
    "ponto_medio_da_clase = []\n",
    "\n",
    "#classe 001\n",
    "x1 = round((52 + 82) / 2)\n",
    "ponto_medio_da_clase.append(x1)\n",
    "#classe 002\n",
    "x2 = round((84 + 98) / 2)\n",
    "ponto_medio_da_clase.append(x2)\n",
    "#classe 003\n",
    "x3 = round((116 + 145) / 2)\n",
    "ponto_medio_da_clase.append(x3)\n",
    "#classe 004\n",
    "x4 = round((154 + 175) / 2)\n",
    "ponto_medio_da_clase.append(x4)\n",
    "#classe 005\n",
    "x4 = round((189 + 210) / 2)\n",
    "ponto_medio_da_clase.append(x4)\n",
    "\n",
    "print(ponto_medio_da_clase)"
   ]
  },
  {
   "cell_type": "markdown",
   "id": "751a7c15-c246-4764-9156-3af728fd707c",
   "metadata": {},
   "source": [
    "fi = frequencia simples <br>\n",
    "xi = ponto medio da clase <br>\n",
    "fri = frequencia simples acumulativa  <br>\n",
    "Fr = frequencia relativa  <br>\n",
    "Fr = frequencia relativa acumulativa  <br>\n",
    "Fi = frequencia acumulada "
   ]
  },
  {
   "cell_type": "code",
   "execution_count": 21,
   "id": "f210c738-b8bd-4b5a-bdc8-94c0cb811ee8",
   "metadata": {
    "scrolled": true
   },
   "outputs": [
    {
     "data": {
      "text/html": [
       "<div>\n",
       "<style scoped>\n",
       "    .dataframe tbody tr th:only-of-type {\n",
       "        vertical-align: middle;\n",
       "    }\n",
       "\n",
       "    .dataframe tbody tr th {\n",
       "        vertical-align: top;\n",
       "    }\n",
       "\n",
       "    .dataframe thead th {\n",
       "        text-align: right;\n",
       "    }\n",
       "</style>\n",
       "<table border=\"1\" class=\"dataframe\">\n",
       "  <thead>\n",
       "    <tr style=\"text-align: right;\">\n",
       "      <th></th>\n",
       "      <th>classe</th>\n",
       "      <th>fi</th>\n",
       "      <th>Fi</th>\n",
       "      <th>fr</th>\n",
       "      <th>Fr</th>\n",
       "      <th>Xi</th>\n",
       "    </tr>\n",
       "  </thead>\n",
       "  <tbody>\n",
       "    <tr>\n",
       "      <th>0</th>\n",
       "      <td>52 |- 84</td>\n",
       "      <td>4</td>\n",
       "      <td>4</td>\n",
       "      <td>20.0</td>\n",
       "      <td>20.0</td>\n",
       "      <td>67</td>\n",
       "    </tr>\n",
       "    <tr>\n",
       "      <th>1</th>\n",
       "      <td>84 |- 116</td>\n",
       "      <td>6</td>\n",
       "      <td>10</td>\n",
       "      <td>30.0</td>\n",
       "      <td>50.0</td>\n",
       "      <td>91</td>\n",
       "    </tr>\n",
       "    <tr>\n",
       "      <th>2</th>\n",
       "      <td>116 |- 148</td>\n",
       "      <td>4</td>\n",
       "      <td>14</td>\n",
       "      <td>20.0</td>\n",
       "      <td>70.0</td>\n",
       "      <td>130</td>\n",
       "    </tr>\n",
       "    <tr>\n",
       "      <th>3</th>\n",
       "      <td>148 |- 180</td>\n",
       "      <td>3</td>\n",
       "      <td>17</td>\n",
       "      <td>15.0</td>\n",
       "      <td>85.0</td>\n",
       "      <td>164</td>\n",
       "    </tr>\n",
       "    <tr>\n",
       "      <th>4</th>\n",
       "      <td>180 |- 212</td>\n",
       "      <td>3</td>\n",
       "      <td>20</td>\n",
       "      <td>15.0</td>\n",
       "      <td>100.0</td>\n",
       "      <td>200</td>\n",
       "    </tr>\n",
       "  </tbody>\n",
       "</table>\n",
       "</div>"
      ],
      "text/plain": [
       "        classe  fi  Fi    fr     Fr   Xi\n",
       "0    52 |- 84    4   4  20.0   20.0   67\n",
       "1    84 |- 116   6  10  30.0   50.0   91\n",
       "2   116 |- 148   4  14  20.0   70.0  130\n",
       "3   148 |- 180   3  17  15.0   85.0  164\n",
       "4   180 |- 212   3  20  15.0  100.0  200"
      ]
     },
     "execution_count": 21,
     "metadata": {},
     "output_type": "execute_result"
    }
   ],
   "source": [
    "pd.DataFrame({\n",
    "    'classe' :[\"52 |- 84 \",\"84 |- 116\" ,\" 116 |- 148\",\"148 |- 180\",\"180 |- 212\"],\n",
    "    'fi':frequencias_simples,\n",
    "    'Fi':frequencia_acumulada,\n",
    "    'fr':frequencia_relativa ,\n",
    "    'Fr':frequencia_relativa_acumulativa,\n",
    "    'Xi':ponto_medio_da_clase\n",
    "})"
   ]
  }
 ],
 "metadata": {
  "kernelspec": {
   "display_name": "Python 3 (ipykernel)",
   "language": "python",
   "name": "python3"
  },
  "language_info": {
   "codemirror_mode": {
    "name": "ipython",
    "version": 3
   },
   "file_extension": ".py",
   "mimetype": "text/x-python",
   "name": "python",
   "nbconvert_exporter": "python",
   "pygments_lexer": "ipython3",
   "version": "3.10.12"
  }
 },
 "nbformat": 4,
 "nbformat_minor": 5
}
